{
  "nbformat": 4,
  "nbformat_minor": 0,
  "metadata": {
    "colab": {
      "provenance": []
    },
    "kernelspec": {
      "name": "python3",
      "display_name": "Python 3"
    },
    "language_info": {
      "name": "python"
    }
  },
  "cells": [
    {
      "cell_type": "markdown",
      "source": [
        "1. Write a Python program which accepts the radius of a circle from the user\n",
        "and compute the area.\n"
      ],
      "metadata": {
        "id": "VaGPp-gferv5"
      }
    },
    {
      "cell_type": "code",
      "source": [
        "import math\n",
        "radius=int(input(\"Enter the radius of circle\"))\n",
        "print(\"Area of circle is :\",math.pi*(radius**2))\n"
      ],
      "metadata": {
        "colab": {
          "base_uri": "https://localhost:8080/"
        },
        "id": "smRD_Ef7epeB",
        "outputId": "7019ab9b-8bc1-48c2-9d05-ddc7320ccff0"
      },
      "execution_count": null,
      "outputs": [
        {
          "output_type": "stream",
          "name": "stdout",
          "text": [
            "Enter the radius of circle3\n",
            "Area of circle is : 28.274333882308138\n"
          ]
        }
      ]
    },
    {
      "cell_type": "markdown",
      "source": [
        "2.Write a Python Program to accept the details of a student like name, roll\n",
        "number and mark and display it."
      ],
      "metadata": {
        "id": "m14cn6Nzhbji"
      }
    },
    {
      "cell_type": "code",
      "source": [
        "name=input(\"Enter the name\")\n",
        "roll=input(\"Enter the roll number\")\n",
        "mark=input(\"Enter the mark\")\n",
        "print(\"Name:\",name+\"\\n\"+\"Roll No:\",roll+\"\\n\"+\"Mark:\",mark)"
      ],
      "metadata": {
        "colab": {
          "base_uri": "https://localhost:8080/"
        },
        "id": "76cbm8s-hjHJ",
        "outputId": "35b5a169-30e0-4d3c-bfc1-dcdf25f8b37c"
      },
      "execution_count": null,
      "outputs": [
        {
          "output_type": "stream",
          "name": "stdout",
          "text": [
            "Enter the nameanisha\n",
            "Enter the roll number21\n",
            "Enter the mark78\n",
            "Name: anisha\n",
            "Roll No: 21\n",
            "Mark: 78\n"
          ]
        }
      ]
    },
    {
      "cell_type": "markdown",
      "source": [
        "3. Write a Python program to get the largest number from a list."
      ],
      "metadata": {
        "id": "zXmw9DT3l996"
      }
    },
    {
      "cell_type": "code",
      "source": [
        "num=[12,3,47,10]\n",
        "largest=num[0]\n",
        "for i in num:\n",
        "  if (i>largest):\n",
        "    largest=i\n",
        "  else:\n",
        "    continue\n",
        "print(largest,\"is the largest number\")"
      ],
      "metadata": {
        "colab": {
          "base_uri": "https://localhost:8080/"
        },
        "id": "hll9GAJ0iqWW",
        "outputId": "7e428284-305a-477b-a21e-cdc58c524d7b"
      },
      "execution_count": null,
      "outputs": [
        {
          "output_type": "stream",
          "name": "stdout",
          "text": [
            "47 is the largest number\n"
          ]
        }
      ]
    },
    {
      "cell_type": "markdown",
      "source": [
        "4.Given a range of first 10 numbers, write a Python program to iterate from\n",
        "start number to the end number and print the sum of the current number\n",
        "and previous number."
      ],
      "metadata": {
        "id": "nJFgykdc05ox"
      }
    },
    {
      "cell_type": "code",
      "source": [
        "start=int(input(\"enter the starting number\"))\n",
        "end=int(input(\"enter the ending number\"))\n",
        "for n in range(start,end+1):\n",
        "  print(\"current number\",n)\n",
        "  print(\"previous number\",n-1)\n",
        "  print(\"sum is\",(n+(n-1)))\n"
      ],
      "metadata": {
        "colab": {
          "base_uri": "https://localhost:8080/"
        },
        "id": "YCGL5mzn1YmM",
        "outputId": "892a6910-c4a0-4467-fb00-0aef19ba5b8c"
      },
      "execution_count": null,
      "outputs": [
        {
          "output_type": "stream",
          "name": "stdout",
          "text": [
            "enter the starting number1\n",
            "enter the ending number10\n",
            "current number 1\n",
            "previous number 0\n",
            "sum is 1\n",
            "current number 2\n",
            "previous number 1\n",
            "sum is 3\n",
            "current number 3\n",
            "previous number 2\n",
            "sum is 5\n",
            "current number 4\n",
            "previous number 3\n",
            "sum is 7\n",
            "current number 5\n",
            "previous number 4\n",
            "sum is 9\n",
            "current number 6\n",
            "previous number 5\n",
            "sum is 11\n",
            "current number 7\n",
            "previous number 6\n",
            "sum is 13\n",
            "current number 8\n",
            "previous number 7\n",
            "sum is 15\n",
            "current number 9\n",
            "previous number 8\n",
            "sum is 17\n",
            "current number 10\n",
            "previous number 9\n",
            "sum is 19\n"
          ]
        }
      ]
    },
    {
      "cell_type": "markdown",
      "source": [
        "5.Write a Python program to print only those numbers which are divisible\n",
        "of 5."
      ],
      "metadata": {
        "id": "Wu1bwpbw8l19"
      }
    },
    {
      "cell_type": "code",
      "source": [
        "num=[10,20,33,46,55]\n",
        "div5=[]\n",
        "for i in num:\n",
        "  if (i%5==0):\n",
        "    div5.append(i)\n",
        "  else:\n",
        "    continue\n",
        "print(div5)"
      ],
      "metadata": {
        "colab": {
          "base_uri": "https://localhost:8080/"
        },
        "id": "-q_iLrtI3Vq4",
        "outputId": "fab0ae96-1bc6-4627-f99b-9bddeab4338b"
      },
      "execution_count": null,
      "outputs": [
        {
          "output_type": "stream",
          "name": "stdout",
          "text": [
            "[10, 20, 55]\n"
          ]
        }
      ]
    },
    {
      "cell_type": "markdown",
      "source": [
        "6. Write a Python program to check whether a number is prime or not."
      ],
      "metadata": {
        "id": "Z6VN56Gt_R-y"
      }
    },
    {
      "cell_type": "code",
      "source": [
        "num=int(input(\"Enter a number\"))\n",
        "count=0\n",
        "for i in range(2,num):\n",
        "  if (num%i==0):\n",
        "    count=count+1\n",
        "  else:\n",
        "    continue\n",
        "if (count>0):\n",
        "  print(\"number is not prime\")\n",
        "else:\n",
        "  print(\"number is prime\")"
      ],
      "metadata": {
        "colab": {
          "base_uri": "https://localhost:8080/"
        },
        "id": "fUdzZiLr8bch",
        "outputId": "d34eddf5-d57e-4fcc-8df5-93ca1d9ffa56"
      },
      "execution_count": null,
      "outputs": [
        {
          "output_type": "stream",
          "name": "stdout",
          "text": [
            "Enter a number3\n",
            "number is prime\n"
          ]
        }
      ]
    },
    {
      "cell_type": "markdown",
      "source": [
        "7.Write a Python program to reverse a list using for loop."
      ],
      "metadata": {
        "id": "bX3407mg_ixH"
      }
    },
    {
      "cell_type": "code",
      "source": [
        "num=[10,40,30,70]\n",
        "out=[]\n",
        "for i in range(len(num)-1,-1,-1):\n",
        "  out.append(num[i])\n",
        "out\n"
      ],
      "metadata": {
        "colab": {
          "base_uri": "https://localhost:8080/"
        },
        "id": "K9TVvInv-9P_",
        "outputId": "7eceb2bf-f4c8-4016-8e5c-372c65d5a1a4"
      },
      "execution_count": null,
      "outputs": [
        {
          "output_type": "execute_result",
          "data": {
            "text/plain": [
              "[70, 30, 40, 10]"
            ]
          },
          "metadata": {},
          "execution_count": 31
        }
      ]
    },
    {
      "cell_type": "markdown",
      "source": [
        "8. Write a Python program to print the following pattern."
      ],
      "metadata": {
        "id": "y3X0Je7fBjkI"
      }
    },
    {
      "cell_type": "code",
      "source": [
        "for i in range(5):\n",
        "  print(\"\\n\")\n",
        "  for j in range(i):\n",
        "    print(\"*\",end=\"\")"
      ],
      "metadata": {
        "colab": {
          "base_uri": "https://localhost:8080/"
        },
        "id": "Pi7JUVkt_gOx",
        "outputId": "8344d298-fec0-43d9-f123-5f72ef53947f"
      },
      "execution_count": null,
      "outputs": [
        {
          "output_type": "stream",
          "name": "stdout",
          "text": [
            "\n",
            "\n",
            "\n",
            "\n",
            "*\n",
            "\n",
            "**\n",
            "\n",
            "***\n",
            "\n",
            "****"
          ]
        }
      ]
    },
    {
      "cell_type": "markdown",
      "source": [
        "9.Write a Python program to find the maximum of three numbers"
      ],
      "metadata": {
        "id": "VWiBlcG7DiYC"
      }
    },
    {
      "cell_type": "code",
      "source": [
        "num1=int(input(\"enter the first number\"))\n",
        "num2=int(input(\"enter the second number\"))\n",
        "num3=int(input(\"eneter the third number\"))\n",
        "if (num1>num2):\n",
        "  if (num1>num3):\n",
        "    print(\"maximum is :\",num1)\n",
        "  else:\n",
        "    print(\"maximum is :\",num3)\n",
        "else:\n",
        "  if (num2>num3):\n",
        "    print(\"maximum is :\",num2)\n",
        "  else:\n",
        "    print(\"maximum is :\",num3)"
      ],
      "metadata": {
        "colab": {
          "base_uri": "https://localhost:8080/"
        },
        "id": "aSjnjA4nDFhB",
        "outputId": "bb1a1b01-9813-4482-d14b-f1be7f14a3a7"
      },
      "execution_count": null,
      "outputs": [
        {
          "output_type": "stream",
          "name": "stdout",
          "text": [
            "enter the first number34\n",
            "enter the second number12\n",
            "eneter the third number7\n",
            "maximum is : 34\n"
          ]
        }
      ]
    },
    {
      "cell_type": "markdown",
      "source": [
        "10.Write a Python program to construct the following pattern, using a\n",
        "nested for loop."
      ],
      "metadata": {
        "id": "jV_2cT0jFr8b"
      }
    },
    {
      "cell_type": "code",
      "source": [
        "for i in range(10):\n",
        "  print(\"\\n\")\n",
        "  if i>5:\n",
        "    i=10-i\n",
        "  for j in range(i):\n",
        "    print(\"*\",end=\"\")"
      ],
      "metadata": {
        "colab": {
          "base_uri": "https://localhost:8080/"
        },
        "id": "esekdrxpE8Xd",
        "outputId": "eecafe49-fb02-4b81-e910-c9c4885e9053"
      },
      "execution_count": null,
      "outputs": [
        {
          "output_type": "stream",
          "name": "stdout",
          "text": [
            "\n",
            "\n",
            "\n",
            "\n",
            "*\n",
            "\n",
            "**\n",
            "\n",
            "***\n",
            "\n",
            "****\n",
            "\n",
            "*****\n",
            "\n",
            "****\n",
            "\n",
            "***\n",
            "\n",
            "**\n",
            "\n",
            "*"
          ]
        }
      ]
    },
    {
      "cell_type": "markdown",
      "source": [
        "## PYTHON PRACTICE PROBLEM 2"
      ],
      "metadata": {
        "id": "LdUfxzc-H7vU"
      }
    },
    {
      "cell_type": "markdown",
      "source": [
        "1. Write a Python program to accept a string value from the user and display\n",
        "the count of each character in that string."
      ],
      "metadata": {
        "id": "_XWpjiIEFEE8"
      }
    },
    {
      "cell_type": "code",
      "source": [
        "text=input(\"Enter the string\")\n",
        "characters=set(text)\n",
        "for i in characters:\n",
        "  count=0\n",
        "  for j in text:\n",
        "    if i==j:\n",
        "      count=count+1\n",
        "    else:\n",
        "      continue\n",
        "  print(i,\"=\",count)"
      ],
      "metadata": {
        "colab": {
          "base_uri": "https://localhost:8080/"
        },
        "id": "UAbrXpjcFGK1",
        "outputId": "bd337b9f-5a04-4d33-ead3-72bce3078169"
      },
      "execution_count": 13,
      "outputs": [
        {
          "output_type": "stream",
          "name": "stdout",
          "text": [
            "Enter the stringassembly\n",
            "l = 1\n",
            "m = 1\n",
            "y = 1\n",
            "a = 1\n",
            "e = 1\n",
            "s = 2\n",
            "b = 1\n"
          ]
        }
      ]
    },
    {
      "cell_type": "markdown",
      "source": [
        "2. . Write a Python function to find the maximum of three numbers Sample"
      ],
      "metadata": {
        "id": "8sdFGnNMaHCo"
      }
    },
    {
      "cell_type": "code",
      "source": [
        "def max(num1,num2,num3):\n",
        "  if (num1>num2):\n",
        "    if (num1>num3):\n",
        "      print(\"maximum is :\",num1)\n",
        "    else:\n",
        "      print(\"maximum is :\",num3)\n",
        "  else:\n",
        "    if (num2>num3):\n",
        "      print(\"maximum is :\",num2)\n",
        "    else:\n",
        "      print(\"maximum is :\",num3)\n",
        "\n",
        "num1=int(input(\"enter 1st number\"))\n",
        "num2=int(input(\"enter 2nd number\"))\n",
        "num3=int(input(\"enetr 3rd number\"))\n",
        "max(num1,num2,num3)"
      ],
      "metadata": {
        "colab": {
          "base_uri": "https://localhost:8080/"
        },
        "id": "OGo-b6cSXvoR",
        "outputId": "cf3c1ab2-49bf-4c28-df3c-6845a411813f"
      },
      "execution_count": 19,
      "outputs": [
        {
          "output_type": "stream",
          "name": "stdout",
          "text": [
            "enter 1st number34\n",
            "enter 2nd number12\n",
            "enetr 3rd number7\n",
            "maximum is : 34\n"
          ]
        }
      ]
    },
    {
      "cell_type": "markdown",
      "source": [
        "3.Write a Python function called exponent(base,exp) that returns an\n",
        "integer value of base raises to the power of exp."
      ],
      "metadata": {
        "id": "TLgLOC2Bc2fB"
      }
    },
    {
      "cell_type": "code",
      "source": [
        "def exponent(base,exp):\n",
        "  return (base**(exp))\n",
        "base=int(input(\"enter the base value\"))\n",
        "exp=int(input(\"enter the power value \"))\n",
        "exponent(base,exp)"
      ],
      "metadata": {
        "colab": {
          "base_uri": "https://localhost:8080/"
        },
        "id": "ct3TTMPOb2jS",
        "outputId": "6c2fcf69-0996-400d-e676-c9d1c93b3e9b"
      },
      "execution_count": 23,
      "outputs": [
        {
          "name": "stdout",
          "output_type": "stream",
          "text": [
            "enter the base value2\n",
            "enter the power value 3\n"
          ]
        },
        {
          "output_type": "execute_result",
          "data": {
            "text/plain": [
              "8"
            ]
          },
          "metadata": {},
          "execution_count": 23
        }
      ]
    },
    {
      "cell_type": "markdown",
      "source": [
        "4. Write a Python function that takes a positive integer and returns the sum\n",
        "of the cube of all the positive integers smaller than the specified number."
      ],
      "metadata": {
        "id": "mYCzDlcheRne"
      }
    },
    {
      "cell_type": "code",
      "source": [
        "\n",
        "def cube(num):\n",
        "  cube=0\n",
        "  for i in range(1,num):\n",
        "    cube=cube+(i**3)\n",
        "  return cube\n",
        "num=int(input(\"enter a positive integer\"))\n",
        "cube(num)"
      ],
      "metadata": {
        "colab": {
          "base_uri": "https://localhost:8080/"
        },
        "id": "bnjIc9f-dmin",
        "outputId": "3277a2b9-a2c6-4332-a67b-91b62c85dd8c"
      },
      "execution_count": 24,
      "outputs": [
        {
          "name": "stdout",
          "output_type": "stream",
          "text": [
            "enter a positive integer4\n"
          ]
        },
        {
          "output_type": "execute_result",
          "data": {
            "text/plain": [
              "36"
            ]
          },
          "metadata": {},
          "execution_count": 24
        }
      ]
    },
    {
      "cell_type": "markdown",
      "source": [
        "5. Write a Python program which iterates from 1 to 10. For multiples of 2,\n",
        "print “Fizz” instead of the number and for the multiples of 5, print “Buzz”.\n",
        "For numbers which are multiples of both 2 and 5, print “FizzBuzz”."
      ],
      "metadata": {
        "id": "Wjn2B7vXiRdT"
      }
    },
    {
      "cell_type": "code",
      "source": [
        "for i in range(1,11):\n",
        "  if ((i%2==0) & (i%5==0)):\n",
        "    print(\"FizzBuzz\")\n",
        "  elif (i%2==0):\n",
        "    print(\"Fizz\")\n",
        "  elif (i%5==0):\n",
        "    print(\"Buzz\")\n",
        "  else:\n",
        "    print(i)"
      ],
      "metadata": {
        "colab": {
          "base_uri": "https://localhost:8080/"
        },
        "id": "aCjRjPgNftyu",
        "outputId": "3fd32cf4-7113-4570-f5a8-6e2144e25f38"
      },
      "execution_count": 27,
      "outputs": [
        {
          "output_type": "stream",
          "name": "stdout",
          "text": [
            "1\n",
            "Fizz\n",
            "3\n",
            "Fizz\n",
            "Buzz\n",
            "Fizz\n",
            "7\n",
            "Fizz\n",
            "9\n",
            "FizzBuzz\n"
          ]
        }
      ]
    },
    {
      "cell_type": "markdown",
      "source": [
        "6. Write a Python program to find the most frequent item in a list of\n",
        "numbers."
      ],
      "metadata": {
        "id": "EesVkbhSkHfB"
      }
    },
    {
      "cell_type": "code",
      "source": [
        "num=[2,3,4,2,5,2]\n",
        "freq={}\n",
        "for i in num:\n",
        "  count=0\n",
        "  for j in num:\n",
        "    if i==j:\n",
        "      count=count+1\n",
        "    else:\n",
        "      continue\n",
        "  freq[str(i)]=count\n"
      ],
      "metadata": {
        "id": "9BUpSNQYkIWM"
      },
      "execution_count": 16,
      "outputs": []
    },
    {
      "cell_type": "code",
      "source": [
        "for x in num:\n",
        "  if (freq[str(x)]==max(freq.values())):\n",
        "    print(\"most frequent iteam is\",x)\n",
        "    break\n",
        "  else:\n",
        "    continue"
      ],
      "metadata": {
        "colab": {
          "base_uri": "https://localhost:8080/"
        },
        "id": "CISbeUmcmTbc",
        "outputId": "e7835e81-4351-4c2f-8aad-d5d46e35eb09"
      },
      "execution_count": 17,
      "outputs": [
        {
          "output_type": "stream",
          "name": "stdout",
          "text": [
            "most frequent iteam is 2\n"
          ]
        }
      ]
    },
    {
      "cell_type": "markdown",
      "source": [
        "7. Write a Python program to find the sum of squares of the numbers in a\n",
        "list."
      ],
      "metadata": {
        "id": "htQ37QsCsD49"
      }
    },
    {
      "cell_type": "code",
      "source": [
        "num=[2,1,3,1]\n",
        "sum=0\n",
        "for i in num:\n",
        "  sum=sum+(i**2)\n",
        "print(sum)"
      ],
      "metadata": {
        "colab": {
          "base_uri": "https://localhost:8080/"
        },
        "id": "WvlxqB_io2o-",
        "outputId": "9feed44e-e1fd-4627-f2a7-62b239ee0b24"
      },
      "execution_count": 19,
      "outputs": [
        {
          "output_type": "stream",
          "name": "stdout",
          "text": [
            "15\n"
          ]
        }
      ]
    },
    {
      "cell_type": "markdown",
      "source": [
        "8.Write a Python program using for loop that will iterate from 1 to 15. For\n",
        "each iteration, check if the current number is odd or even, and display the\n",
        "message to the screen as odd or even"
      ],
      "metadata": {
        "id": "tzoMzLRR0Mxw"
      }
    },
    {
      "cell_type": "code",
      "source": [
        "for i in range(1,16):\n",
        "  if (i%2==0):\n",
        "    print(i,\"-even\")\n",
        "  else:\n",
        "    print(i,\"-odd\")"
      ],
      "metadata": {
        "colab": {
          "base_uri": "https://localhost:8080/"
        },
        "id": "lrIbKJG9sad6",
        "outputId": "a0c12c0d-b684-42b1-efbc-9e00c104a158"
      },
      "execution_count": 1,
      "outputs": [
        {
          "output_type": "stream",
          "name": "stdout",
          "text": [
            "1 -odd\n",
            "2 -even\n",
            "3 -odd\n",
            "4 -even\n",
            "5 -odd\n",
            "6 -even\n",
            "7 -odd\n",
            "8 -even\n",
            "9 -odd\n",
            "10 -even\n",
            "11 -odd\n",
            "12 -even\n",
            "13 -odd\n",
            "14 -even\n",
            "15 -odd\n"
          ]
        }
      ]
    },
    {
      "cell_type": "markdown",
      "source": [
        "9. Write a Python program to convert temperatures to and from Celsius\n",
        "Fahrenheit. [Formula: c/5=f-32/9 where c=temperature in Celsius and f=\n",
        "temperature in Fahrenheit.]"
      ],
      "metadata": {
        "id": "Yf_1mBZ85OL0"
      }
    },
    {
      "cell_type": "code",
      "source": [
        "temp=int(input(\"enter the temperature in fahrenheit\"))\n",
        "print(\"Temperature in celsius\",((temp-32)*5/9))"
      ],
      "metadata": {
        "colab": {
          "base_uri": "https://localhost:8080/"
        },
        "id": "ZX_NWHoS0vfj",
        "outputId": "0ef18c69-9c16-44bd-e492-3a6104752b6c"
      },
      "execution_count": 3,
      "outputs": [
        {
          "output_type": "stream",
          "name": "stdout",
          "text": [
            "enter the temperature in fahrenheit41\n",
            "Temperature in celsius 5.0\n"
          ]
        }
      ]
    },
    {
      "cell_type": "markdown",
      "source": [
        "10. Write a Python function to calculate the factorial of a number (a\n",
        "nonnegative integer). The function accepts the number as an argument."
      ],
      "metadata": {
        "id": "JaGgQXoC4Db-"
      }
    },
    {
      "cell_type": "code",
      "source": [
        "\n",
        "def fact(num):\n",
        "  factorial=1\n",
        "  for i in range(1,num+1):\n",
        "    factorial=factorial*i\n",
        "  return factorial\n",
        "num=int(input(\"enter a number\"))\n",
        "fact(num)\n"
      ],
      "metadata": {
        "colab": {
          "base_uri": "https://localhost:8080/"
        },
        "id": "dPEzvi971_3Y",
        "outputId": "6326bd65-aae3-401f-9ddb-c672d9cfff2e"
      },
      "execution_count": 7,
      "outputs": [
        {
          "name": "stdout",
          "output_type": "stream",
          "text": [
            "enter a number3\n"
          ]
        },
        {
          "output_type": "execute_result",
          "data": {
            "text/plain": [
              "6"
            ]
          },
          "metadata": {},
          "execution_count": 7
        }
      ]
    },
    {
      "cell_type": "code",
      "source": [],
      "metadata": {
        "id": "HcPDZLLw5FSM"
      },
      "execution_count": null,
      "outputs": []
    }
  ]
}